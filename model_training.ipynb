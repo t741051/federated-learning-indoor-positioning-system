{
 "cells": [
  {
   "cell_type": "code",
   "execution_count": 1,
   "id": "d950cb37",
   "metadata": {},
   "outputs": [],
   "source": [
    "import numpy as np\n",
    "import tensorflow as tf\n",
    "from keras import layers\n",
    "from PIL import Image\n",
    "from IPython.display import display\n",
    "from keras.callbacks import ModelCheckpoint\n",
    "from sklearn.metrics import classification_report\n",
    "from keras.preprocessing.image import ImageDataGenerator\n",
    "import os\n",
    "from keras.models import Model\n",
    "from keras.models import load_model\n",
    "import numpy as np\n",
    "import matplotlib.pyplot as plt\n"
   ]
  },
  {
   "cell_type": "code",
   "execution_count": 2,
   "id": "bf8e513e",
   "metadata": {},
   "outputs": [],
   "source": [
    "target_image_size = (75, 75)\n",
    "model_name = ''\n",
    "num_classes = 17\n"
   ]
  },
  {
   "cell_type": "code",
   "execution_count": null,
   "id": "10dc23c9",
   "metadata": {},
   "outputs": [],
   "source": [
    "# # 讀取資料集\n",
    "# x_train = np.load('train_image.npy')\n",
    "# y_train = np.load('train_label.npy')\n",
    "# x_test = np.load('test_image.npy')\n",
    "# y_test = np.load('test_label.npy')"
   ]
  },
  {
   "cell_type": "code",
   "execution_count": 3,
   "id": "ae1ed1f6",
   "metadata": {},
   "outputs": [
    {
     "name": "stdout",
     "output_type": "stream",
     "text": [
      "Found 1485 images belonging to 17 classes.\n",
      "Found 476 images belonging to 17 classes.\n"
     ]
    }
   ],
   "source": [
    "\n",
    "train_datagen = ImageDataGenerator(\n",
    "    rescale=1./255,  # 对图像进行缩放，将像素值归一化到[0,1]之间\n",
    "    rotation_range=30,  # 随机旋转角度范围\n",
    "    width_shift_range=0.2,  # 随机水平平移的范围\n",
    "    height_shift_range=0.2,  # 随机竖直平移的范围\n",
    "    shear_range=0.1,  # 剪切强度\n",
    "    zoom_range=0.2,  # 随机缩放范围\n",
    "    horizontal_flip=False,  # 随机水平翻转\n",
    "    fill_mode='nearest'  # 填充方式\n",
    ")\n",
    "\n",
    "train_dir = 'Dataset/train/'\n",
    "\n",
    "train_generator = train_datagen.flow_from_directory(\n",
    "    train_dir,\n",
    "    target_size=target_image_size,\n",
    "    batch_size=32,\n",
    "    class_mode='categorical'\n",
    ")\n",
    "\n",
    "# 创建验证集的 ImageDataGenerator 对象\n",
    "validation_datagen =  ImageDataGenerator(rescale=1./255)\n",
    "\n",
    "val_dir = 'Dataset/val/'\n",
    "\n",
    "# 加载验证集\n",
    "validation_generator = validation_datagen.flow_from_directory(\n",
    "    val_dir,\n",
    "    target_size=target_image_size,\n",
    "    batch_size=32,\n",
    "    class_mode='categorical'\n",
    ")"
   ]
  },
  {
   "cell_type": "code",
   "execution_count": null,
   "id": "6448a3ee",
   "metadata": {},
   "outputs": [],
   "source": [
    "# # 創建模型\n",
    "# model = tf.keras.Sequential([\n",
    "#     layers.Conv2D(64, (5, 5), activation='relu', input_shape=(128, 128, 3)),\n",
    "#     layers.BatchNormalization(),\n",
    "#     layers.MaxPooling2D((2, 2)),\n",
    "#     layers.Dropout(0.3),\n",
    "#     layers.Conv2D(128, (5, 5), activation='relu'),\n",
    "#     layers.BatchNormalization(),\n",
    "#     layers.MaxPooling2D((2, 2)),\n",
    "#     layers.Dropout(0.3),\n",
    "#     layers.Conv2D(256, (5, 5), activation='relu'),\n",
    "#     layers.BatchNormalization(),\n",
    "#     layers.MaxPooling2D((2, 2)),\n",
    "#     layers.Dropout(0.3),\n",
    "#     layers.Flatten(),\n",
    "#     layers.Dense(128, activation='relu'),\n",
    "#     layers.BatchNormalization(),\n",
    "#     layers.Dropout(0.5),\n",
    "#     layers.Dense(17, activation='softmax')\n",
    "# ])\n",
    "\n",
    "\n",
    "# checkpoint = ModelCheckpoint(filepath='model.h5', monitor='val_accuracy', save_best_only=True)\n",
    "\n",
    "# # 編譯模型\n",
    "# model.compile(\n",
    "#     optimizer='adam',\n",
    "#     loss='categorical_crossentropy',\n",
    "#     metrics=['accuracy']\n",
    "# )"
   ]
  },
  {
   "cell_type": "code",
   "execution_count": null,
   "id": "c94804c9",
   "metadata": {},
   "outputs": [],
   "source": [
    "if os.path.exists('model.h5'):\n",
    "    os.remove('model.h5')"
   ]
  },
  {
   "cell_type": "code",
   "execution_count": 4,
   "id": "7d1e215e",
   "metadata": {},
   "outputs": [
    {
     "name": "stderr",
     "output_type": "stream",
     "text": [
      "2023-05-17 10:07:00.049066: W tensorflow/compiler/xla/stream_executor/platform/default/dso_loader.cc:64] Could not load dynamic library 'libcuda.so.1'; dlerror: libcuda.so.1: cannot open shared object file: No such file or directory\n",
      "2023-05-17 10:07:00.049131: W tensorflow/compiler/xla/stream_executor/cuda/cuda_driver.cc:265] failed call to cuInit: UNKNOWN ERROR (303)\n",
      "2023-05-17 10:07:00.049162: I tensorflow/compiler/xla/stream_executor/cuda/cuda_diagnostics.cc:156] kernel driver does not appear to be running on this host (t741051-virtual-machine): /proc/driver/nvidia/version does not exist\n",
      "2023-05-17 10:07:00.049444: I tensorflow/core/platform/cpu_feature_guard.cc:193] This TensorFlow binary is optimized with oneAPI Deep Neural Network Library (oneDNN) to use the following CPU instructions in performance-critical operations:  AVX2 FMA\n",
      "To enable them in other operations, rebuild TensorFlow with the appropriate compiler flags.\n"
     ]
    }
   ],
   "source": [
    "from keras.applications.inception_resnet_v2 import InceptionResNetV2\n",
    "\n",
    "model_name = 'InceptionResNetV2'\n",
    "# 建立 InceptionResNetV2 模型，載入 ImageNet 預訓練權重\n",
    "input_shape = (target_image_size[0], target_image_size[1], 3)\n",
    "num_classes = 17\n",
    "base_model = InceptionResNetV2(input_shape=input_shape, include_top=False, weights='imagenet')\n",
    "\n",
    "# 添加自定義的輸出層\n",
    "x = base_model.output\n",
    "x = tf.keras.layers.GlobalAveragePooling2D()(x)\n",
    "x = tf.keras.layers.Dense(1024, activation='relu')(x)\n",
    "predictions = tf.keras.layers.Dense(num_classes, activation='softmax')(x)\n",
    "\n",
    "# 構建完整模型\n",
    "model = Model(inputs=base_model.input, outputs=predictions)\n",
    "\n",
    "# 鎖定 InceptionResNetV2 的卷積層權重，只訓練自定義的輸出層\n",
    "for layer in base_model.layers:\n",
    "    layer.trainable = False\n",
    "\n",
    "checkpoint = ModelCheckpoint(filepath='model.h5', monitor='val_accuracy', save_best_only=True)   \n",
    "    \n",
    "# 編譯模型\n",
    "model.compile(optimizer='adam', loss='categorical_crossentropy', metrics=['accuracy'])"
   ]
  },
  {
   "cell_type": "code",
   "execution_count": null,
   "id": "4472e49b",
   "metadata": {
    "scrolled": true
   },
   "outputs": [],
   "source": [
    "from keras.applications.mobilenet import MobileNet\n",
    "from keras.models import Model\n",
    "model_name = 'MobileNet'\n",
    "# 建立 MobileNet 模型，載入 ImageNet 預訓練權重\n",
    "input_shape = (target_image_size[0], target_image_size[1], 3)\n",
    "base_model = MobileNet(input_shape=input_shape, include_top=False, weights='imagenet')\n",
    "\n",
    "# 添加自定義的輸出層\n",
    "x = base_model.output\n",
    "x = tf.keras.layers.GlobalAveragePooling2D()(x)\n",
    "x = tf.keras.layers.Dense(1024, activation='relu')(x)\n",
    "predictions = tf.keras.layers.Dense(num_classes, activation='softmax')(x)\n",
    "\n",
    "# 構建完整模型\n",
    "model = Model(inputs=base_model.input, outputs=predictions)\n",
    "\n",
    "# 鎖定 MobileNet 的卷積層權重，只訓練自定義的輸出層\n",
    "for layer in base_model.layers:\n",
    "    layer.trainable = False\n",
    "\n",
    "checkpoint = ModelCheckpoint(filepath='model.h5', monitor='val_accuracy', save_best_only=True)   \n",
    "    \n",
    "# 編譯模型\n",
    "model.compile(optimizer='adam', loss='categorical_crossentropy', metrics=['accuracy'])\n"
   ]
  },
  {
   "cell_type": "code",
   "execution_count": null,
   "id": "0cc472ed",
   "metadata": {
    "scrolled": true
   },
   "outputs": [],
   "source": [
    "from sklearn.tree import DecisionTreeClassifier\n",
    "\n",
    "# 載入訓練和測試數據\n",
    "train_data = np.load('train_image.npy')\n",
    "train_labels = np.load('train_label.npy')\n",
    "test_data = np.load('test_image.npy')\n",
    "test_labels = np.load('test_label.npy')\n",
    "\n",
    "\n",
    "train_data = train_data.reshape(train_data.shape[0], -1)\n",
    "test_data = test_data.reshape(test_data.shape[0], -1)\n",
    "\n",
    "# Create the decision tree model\n",
    "model = DecisionTreeClassifier()\n",
    "\n",
    "# Train the model on the training data\n",
    "model.fit(train_data, train_labels)\n",
    "\n",
    "# Evaluate the model on the testing data\n",
    "score = model.score(test_data, test_labels)\n",
    "\n",
    "# Print the accuracy score\n",
    "print('Accuracy:', score)"
   ]
  },
  {
   "cell_type": "code",
   "execution_count": null,
   "id": "02c69ad2",
   "metadata": {
    "scrolled": true
   },
   "outputs": [],
   "source": [
    "# 訓練模型\n",
    "history = model.fit(train_generator, epochs=30, validation_data=validation_generator, callbacks=checkpoint)"
   ]
  },
  {
   "cell_type": "code",
   "execution_count": null,
   "id": "7467c512",
   "metadata": {},
   "outputs": [],
   "source": [
    "print(model_name)\n",
    "val_acc = max(history.history['val_accuracy'])\n",
    "train_acc = history.history['accuracy'][history.history['val_accuracy'].index(val_acc)]\n",
    "print(\"val_max：\", val_acc)\n",
    "print(\"train：\", train_acc)"
   ]
  }
 ],
 "metadata": {
  "kernelspec": {
   "display_name": "Python 3 (ipykernel)",
   "language": "python",
   "name": "python3"
  },
  "language_info": {
   "codemirror_mode": {
    "name": "ipython",
    "version": 3
   },
   "file_extension": ".py",
   "mimetype": "text/x-python",
   "name": "python",
   "nbconvert_exporter": "python",
   "pygments_lexer": "ipython3",
   "version": "3.10.10"
  }
 },
 "nbformat": 4,
 "nbformat_minor": 5
}
