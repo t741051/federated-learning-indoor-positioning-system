{
 "cells": [
  {
   "cell_type": "code",
   "execution_count": 1,
   "id": "d950cb37",
   "metadata": {},
   "outputs": [],
   "source": [
    "import numpy as np\n",
    "import tensorflow as tf\n",
    "from keras import layers\n",
    "from PIL import Image\n",
    "from IPython.display import display\n",
    "from keras.callbacks import ModelCheckpoint\n",
    "from sklearn.metrics import classification_report\n",
    "from keras.preprocessing.image import ImageDataGenerator\n",
    "import os\n",
    "from keras.models import Model\n",
    "from keras.models import load_model\n",
    "import numpy as np\n",
    "import matplotlib.pyplot as plt\n"
   ]
  },
  {
   "cell_type": "code",
   "execution_count": 2,
   "id": "bf8e513e",
   "metadata": {},
   "outputs": [],
   "source": [
    "target_image_size = (75, 75)\n",
    "model_name = ''\n",
    "num_classes = 17\n"
   ]
  },
  {
   "cell_type": "code",
   "execution_count": null,
   "id": "10dc23c9",
   "metadata": {},
   "outputs": [],
   "source": [
    "# # 讀取資料集\n",
    "# x_train = np.load('train_image.npy')\n",
    "# y_train = np.load('train_label.npy')\n",
    "# x_test = np.load('test_image.npy')\n",
    "# y_test = np.load('test_label.npy')"
   ]
  },
  {
   "cell_type": "code",
   "execution_count": 3,
   "id": "ae1ed1f6",
   "metadata": {},
   "outputs": [
    {
     "name": "stdout",
     "output_type": "stream",
     "text": [
      "Found 1485 images belonging to 17 classes.\n",
      "Found 476 images belonging to 17 classes.\n"
     ]
    }
   ],
   "source": [
    "\n",
    "train_datagen = ImageDataGenerator(\n",
    "    rescale=1./255,  # 对图像进行缩放，将像素值归一化到[0,1]之间\n",
    "    rotation_range=30,  # 随机旋转角度范围\n",
    "    width_shift_range=0.2,  # 随机水平平移的范围\n",
    "    height_shift_range=0.2,  # 随机竖直平移的范围\n",
    "    shear_range=0.1,  # 剪切强度\n",
    "    zoom_range=0.2,  # 随机缩放范围\n",
    "    horizontal_flip=True,  # 随机水平翻转\n",
    "    vertical_flip=True,  # 随机水平翻转\n",
    "    fill_mode='nearest'  # 填充方式\n",
    ")\n",
    "\n",
    "train_dir = 'Dataset/train/'\n",
    "\n",
    "train_generator = train_datagen.flow_from_directory(\n",
    "    train_dir,\n",
    "    target_size=target_image_size,\n",
    "    batch_size=32,\n",
    "    class_mode='categorical'\n",
    ")\n",
    "\n",
    "# 创建验证集的 ImageDataGenerator 对象\n",
    "validation_datagen =  ImageDataGenerator(rescale=1./255)\n",
    "\n",
    "val_dir = 'Dataset/val/'\n",
    "\n",
    "# 加载验证集\n",
    "validation_generator = validation_datagen.flow_from_directory(\n",
    "    val_dir,\n",
    "    target_size=target_image_size,\n",
    "    batch_size=32,\n",
    "    class_mode='categorical'\n",
    ")"
   ]
  },
  {
   "cell_type": "code",
   "execution_count": null,
   "id": "6448a3ee",
   "metadata": {},
   "outputs": [],
   "source": [
    "# # 創建模型\n",
    "# model = tf.keras.Sequential([\n",
    "#     layers.Conv2D(64, (5, 5), activation='relu', input_shape=(128, 128, 3)),\n",
    "#     layers.BatchNormalization(),\n",
    "#     layers.MaxPooling2D((2, 2)),\n",
    "#     layers.Dropout(0.3),\n",
    "#     layers.Conv2D(128, (5, 5), activation='relu'),\n",
    "#     layers.BatchNormalization(),\n",
    "#     layers.MaxPooling2D((2, 2)),\n",
    "#     layers.Dropout(0.3),\n",
    "#     layers.Conv2D(256, (5, 5), activation='relu'),\n",
    "#     layers.BatchNormalization(),\n",
    "#     layers.MaxPooling2D((2, 2)),\n",
    "#     layers.Dropout(0.3),\n",
    "#     layers.Flatten(),\n",
    "#     layers.Dense(128, activation='relu'),\n",
    "#     layers.BatchNormalization(),\n",
    "#     layers.Dropout(0.5),\n",
    "#     layers.Dense(17, activation='softmax')\n",
    "# ])\n",
    "\n",
    "\n",
    "# checkpoint = ModelCheckpoint(filepath='model.h5', monitor='val_accuracy', save_best_only=True)\n",
    "\n",
    "# # 編譯模型\n",
    "# model.compile(\n",
    "#     optimizer='adam',\n",
    "#     loss='categorical_crossentropy',\n",
    "#     metrics=['accuracy']\n",
    "# )"
   ]
  },
  {
   "cell_type": "code",
   "execution_count": null,
   "id": "c94804c9",
   "metadata": {},
   "outputs": [],
   "source": [
    "if os.path.exists('model.h5'):\n",
    "    os.remove('model.h5')"
   ]
  },
  {
   "cell_type": "code",
   "execution_count": 4,
   "id": "7d1e215e",
   "metadata": {},
   "outputs": [],
   "source": [
    "from keras.applications.inception_resnet_v2 import InceptionResNetV2\n",
    "\n",
    "model_name = 'InceptionResNetV2'\n",
    "# 建立 InceptionResNetV2 模型，載入 ImageNet 預訓練權重\n",
    "input_shape = (target_image_size[0], target_image_size[1], 3)\n",
    "num_classes = 17\n",
    "base_model = InceptionResNetV2(input_shape=input_shape, include_top=False, weights='imagenet')\n",
    "\n",
    "# 添加自定義的輸出層\n",
    "x = base_model.output\n",
    "x = tf.keras.layers.GlobalAveragePooling2D()(x)\n",
    "x = tf.keras.layers.Dense(1024, activation='relu')(x)\n",
    "predictions = tf.keras.layers.Dense(num_classes, activation='softmax')(x)\n",
    "\n",
    "# 構建完整模型\n",
    "model = Model(inputs=base_model.input, outputs=predictions)\n",
    "\n",
    "# 鎖定 InceptionResNetV2 的卷積層權重，只訓練自定義的輸出層\n",
    "for layer in base_model.layers:\n",
    "    layer.trainable = False\n",
    "\n",
    "checkpoint = ModelCheckpoint(filepath='model.h5', monitor='val_accuracy', save_best_only=True)   \n",
    "    \n",
    "# 編譯模型\n",
    "model.compile(optimizer='adam', loss='categorical_crossentropy', metrics=['accuracy'])"
   ]
  },
  {
   "cell_type": "code",
   "execution_count": 6,
   "id": "4472e49b",
   "metadata": {
    "scrolled": true
   },
   "outputs": [
    {
     "name": "stdout",
     "output_type": "stream",
     "text": [
      "WARNING:tensorflow:`input_shape` is undefined or non-square, or `rows` is not in [128, 160, 192, 224]. Weights for input shape (224, 224) will be loaded as the default.\n"
     ]
    }
   ],
   "source": [
    "from keras.applications.mobilenet import MobileNet\n",
    "from keras.models import Model\n",
    "model_name = 'MobileNet'\n",
    "# 建立 MobileNet 模型，載入 ImageNet 預訓練權重\n",
    "input_shape = (target_image_size[0], target_image_size[1], 3)\n",
    "base_model = MobileNet(input_shape=input_shape, include_top=False, weights='imagenet')\n",
    "\n",
    "# 添加自定義的輸出層\n",
    "x = base_model.output\n",
    "x = tf.keras.layers.GlobalAveragePooling2D()(x)\n",
    "x = tf.keras.layers.Dense(1024, activation='relu')(x)\n",
    "predictions = tf.keras.layers.Dense(num_classes, activation='softmax')(x)\n",
    "\n",
    "# 構建完整模型\n",
    "model = Model(inputs=base_model.input, outputs=predictions)\n",
    "\n",
    "# 鎖定 MobileNet 的卷積層權重，只訓練自定義的輸出層\n",
    "for layer in base_model.layers:\n",
    "    layer.trainable = False\n",
    "\n",
    "checkpoint = ModelCheckpoint(filepath='model.h5', monitor='val_accuracy', save_best_only=True)   \n",
    "    \n",
    "# 編譯模型\n",
    "model.compile(optimizer='adam', loss='categorical_crossentropy', metrics=['accuracy'])\n"
   ]
  },
  {
   "cell_type": "code",
   "execution_count": 5,
   "id": "0cc472ed",
   "metadata": {
    "scrolled": true
   },
   "outputs": [
    {
     "ename": "FileNotFoundError",
     "evalue": "[Errno 2] No such file or directory: 'train_image.npy'",
     "output_type": "error",
     "traceback": [
      "\u001b[1;31m---------------------------------------------------------------------------\u001b[0m",
      "\u001b[1;31mFileNotFoundError\u001b[0m                         Traceback (most recent call last)",
      "Cell \u001b[1;32mIn[5], line 4\u001b[0m\n\u001b[0;32m      1\u001b[0m \u001b[39mfrom\u001b[39;00m \u001b[39msklearn\u001b[39;00m\u001b[39m.\u001b[39;00m\u001b[39mtree\u001b[39;00m \u001b[39mimport\u001b[39;00m DecisionTreeClassifier\n\u001b[0;32m      3\u001b[0m \u001b[39m# 載入訓練和測試數據\u001b[39;00m\n\u001b[1;32m----> 4\u001b[0m train_data \u001b[39m=\u001b[39m np\u001b[39m.\u001b[39;49mload(\u001b[39m'\u001b[39;49m\u001b[39mtrain_image.npy\u001b[39;49m\u001b[39m'\u001b[39;49m)\n\u001b[0;32m      5\u001b[0m train_labels \u001b[39m=\u001b[39m np\u001b[39m.\u001b[39mload(\u001b[39m'\u001b[39m\u001b[39mtrain_label.npy\u001b[39m\u001b[39m'\u001b[39m)\n\u001b[0;32m      6\u001b[0m test_data \u001b[39m=\u001b[39m np\u001b[39m.\u001b[39mload(\u001b[39m'\u001b[39m\u001b[39mtest_image.npy\u001b[39m\u001b[39m'\u001b[39m)\n",
      "File \u001b[1;32mc:\\Users\\t7410\\anaconda3\\envs\\federatedLearning\\lib\\site-packages\\numpy\\lib\\npyio.py:405\u001b[0m, in \u001b[0;36mload\u001b[1;34m(file, mmap_mode, allow_pickle, fix_imports, encoding, max_header_size)\u001b[0m\n\u001b[0;32m    403\u001b[0m     own_fid \u001b[39m=\u001b[39m \u001b[39mFalse\u001b[39;00m\n\u001b[0;32m    404\u001b[0m \u001b[39melse\u001b[39;00m:\n\u001b[1;32m--> 405\u001b[0m     fid \u001b[39m=\u001b[39m stack\u001b[39m.\u001b[39menter_context(\u001b[39mopen\u001b[39;49m(os_fspath(file), \u001b[39m\"\u001b[39;49m\u001b[39mrb\u001b[39;49m\u001b[39m\"\u001b[39;49m))\n\u001b[0;32m    406\u001b[0m     own_fid \u001b[39m=\u001b[39m \u001b[39mTrue\u001b[39;00m\n\u001b[0;32m    408\u001b[0m \u001b[39m# Code to distinguish from NumPy binary files and pickles.\u001b[39;00m\n",
      "\u001b[1;31mFileNotFoundError\u001b[0m: [Errno 2] No such file or directory: 'train_image.npy'"
     ]
    }
   ],
   "source": [
    "from sklearn.tree import DecisionTreeClassifier\n",
    "\n",
    "# 載入訓練和測試數據\n",
    "train_data = np.load('train_image.npy')\n",
    "train_labels = np.load('train_label.npy')\n",
    "test_data = np.load('test_image.npy')\n",
    "test_labels = np.load('test_label.npy')\n",
    "\n",
    "\n",
    "train_data = train_data.reshape(train_data.shape[0], -1)\n",
    "test_data = test_data.reshape(test_data.shape[0], -1)\n",
    "\n",
    "# Create the decision tree model\n",
    "model = DecisionTreeClassifier()\n",
    "\n",
    "# Train the model on the training data\n",
    "model.fit(train_data, train_labels)\n",
    "\n",
    "# Evaluate the model on the testing data\n",
    "score = model.score(test_data, test_labels)\n",
    "\n",
    "# Print the accuracy score\n",
    "print('Accuracy:', score)"
   ]
  },
  {
   "cell_type": "code",
   "execution_count": 7,
   "id": "02c69ad2",
   "metadata": {
    "scrolled": true
   },
   "outputs": [
    {
     "name": "stdout",
     "output_type": "stream",
     "text": [
      "Epoch 1/30\n",
      "47/47 [==============================] - 9s 143ms/step - loss: 1.2062 - accuracy: 0.6391 - val_loss: 1.2362 - val_accuracy: 0.6345\n",
      "Epoch 2/30\n",
      "47/47 [==============================] - 7s 142ms/step - loss: 0.4737 - accuracy: 0.8566 - val_loss: 1.0032 - val_accuracy: 0.6744\n",
      "Epoch 3/30\n",
      "47/47 [==============================] - 7s 143ms/step - loss: 0.3334 - accuracy: 0.8875 - val_loss: 1.1352 - val_accuracy: 0.6681\n",
      "Epoch 4/30\n",
      "47/47 [==============================] - 7s 142ms/step - loss: 0.3303 - accuracy: 0.8970 - val_loss: 0.8750 - val_accuracy: 0.7731\n",
      "Epoch 5/30\n",
      "47/47 [==============================] - 6s 129ms/step - loss: 0.2413 - accuracy: 0.9232 - val_loss: 0.8240 - val_accuracy: 0.7689\n",
      "Epoch 6/30\n",
      "47/47 [==============================] - 6s 132ms/step - loss: 0.2713 - accuracy: 0.9145 - val_loss: 1.0957 - val_accuracy: 0.7164\n",
      "Epoch 7/30\n",
      "47/47 [==============================] - 7s 140ms/step - loss: 0.2848 - accuracy: 0.9104 - val_loss: 0.6958 - val_accuracy: 0.7815\n",
      "Epoch 8/30\n",
      "47/47 [==============================] - 6s 132ms/step - loss: 0.1954 - accuracy: 0.9401 - val_loss: 0.9263 - val_accuracy: 0.7584\n",
      "Epoch 9/30\n",
      "47/47 [==============================] - 6s 137ms/step - loss: 0.1542 - accuracy: 0.9549 - val_loss: 0.8432 - val_accuracy: 0.7668\n",
      "Epoch 10/30\n",
      "47/47 [==============================] - 6s 132ms/step - loss: 0.1757 - accuracy: 0.9407 - val_loss: 1.1096 - val_accuracy: 0.7605\n",
      "Epoch 11/30\n",
      "47/47 [==============================] - 6s 131ms/step - loss: 0.1869 - accuracy: 0.9414 - val_loss: 1.1941 - val_accuracy: 0.6912\n",
      "Epoch 12/30\n",
      "47/47 [==============================] - 7s 155ms/step - loss: 0.1558 - accuracy: 0.9542 - val_loss: 0.7767 - val_accuracy: 0.7962\n",
      "Epoch 13/30\n",
      "47/47 [==============================] - 7s 140ms/step - loss: 0.1475 - accuracy: 0.9515 - val_loss: 1.2300 - val_accuracy: 0.7458\n",
      "Epoch 14/30\n",
      "47/47 [==============================] - 6s 135ms/step - loss: 0.1285 - accuracy: 0.9630 - val_loss: 1.2491 - val_accuracy: 0.7038\n",
      "Epoch 15/30\n",
      "47/47 [==============================] - 6s 133ms/step - loss: 0.1384 - accuracy: 0.9616 - val_loss: 0.9438 - val_accuracy: 0.7962\n",
      "Epoch 16/30\n",
      "47/47 [==============================] - 7s 141ms/step - loss: 0.1320 - accuracy: 0.9623 - val_loss: 0.7542 - val_accuracy: 0.8130\n",
      "Epoch 17/30\n",
      "47/47 [==============================] - 7s 138ms/step - loss: 0.1350 - accuracy: 0.9556 - val_loss: 0.9655 - val_accuracy: 0.7521\n",
      "Epoch 18/30\n",
      "47/47 [==============================] - 7s 141ms/step - loss: 0.1234 - accuracy: 0.9623 - val_loss: 0.9572 - val_accuracy: 0.7815\n",
      "Epoch 19/30\n",
      "47/47 [==============================] - 7s 144ms/step - loss: 0.1119 - accuracy: 0.9609 - val_loss: 0.8293 - val_accuracy: 0.8025\n",
      "Epoch 20/30\n",
      "47/47 [==============================] - 6s 134ms/step - loss: 0.0936 - accuracy: 0.9684 - val_loss: 1.1117 - val_accuracy: 0.6912\n",
      "Epoch 21/30\n",
      "47/47 [==============================] - 8s 161ms/step - loss: 0.1202 - accuracy: 0.9623 - val_loss: 1.2345 - val_accuracy: 0.7416\n",
      "Epoch 22/30\n",
      "47/47 [==============================] - 6s 136ms/step - loss: 0.1178 - accuracy: 0.9636 - val_loss: 1.3743 - val_accuracy: 0.7500\n",
      "Epoch 23/30\n",
      "47/47 [==============================] - 6s 137ms/step - loss: 0.1422 - accuracy: 0.9562 - val_loss: 0.8752 - val_accuracy: 0.8046\n",
      "Epoch 24/30\n",
      "47/47 [==============================] - 6s 136ms/step - loss: 0.1170 - accuracy: 0.9636 - val_loss: 1.1820 - val_accuracy: 0.7269\n",
      "Epoch 25/30\n",
      "47/47 [==============================] - 6s 133ms/step - loss: 0.1193 - accuracy: 0.9616 - val_loss: 1.9092 - val_accuracy: 0.7059\n",
      "Epoch 26/30\n",
      "47/47 [==============================] - 7s 140ms/step - loss: 0.1106 - accuracy: 0.9616 - val_loss: 1.1284 - val_accuracy: 0.7563\n",
      "Epoch 27/30\n",
      "47/47 [==============================] - 6s 133ms/step - loss: 0.0919 - accuracy: 0.9643 - val_loss: 1.1129 - val_accuracy: 0.7794\n",
      "Epoch 28/30\n",
      "47/47 [==============================] - 6s 133ms/step - loss: 0.0863 - accuracy: 0.9764 - val_loss: 0.9932 - val_accuracy: 0.7752\n",
      "Epoch 29/30\n",
      "47/47 [==============================] - 6s 136ms/step - loss: 0.1084 - accuracy: 0.9657 - val_loss: 1.0865 - val_accuracy: 0.7857\n",
      "Epoch 30/30\n",
      "47/47 [==============================] - 7s 145ms/step - loss: 0.0892 - accuracy: 0.9684 - val_loss: 1.0274 - val_accuracy: 0.7920\n"
     ]
    }
   ],
   "source": [
    "# 訓練模型\n",
    "history = model.fit(train_generator, epochs=30, validation_data=validation_generator, callbacks=checkpoint)"
   ]
  },
  {
   "cell_type": "code",
   "execution_count": null,
   "id": "7467c512",
   "metadata": {},
   "outputs": [],
   "source": [
    "print(model_name)\n",
    "val_acc = max(history.history['val_accuracy'])\n",
    "train_acc = history.history['accuracy'][history.history['val_accuracy'].index(val_acc)]\n",
    "print(\"val_max：\", val_acc)\n",
    "print(\"train：\", train_acc)"
   ]
  }
 ],
 "metadata": {
  "kernelspec": {
   "display_name": "Python 3 (ipykernel)",
   "language": "python",
   "name": "python3"
  },
  "language_info": {
   "codemirror_mode": {
    "name": "ipython",
    "version": 3
   },
   "file_extension": ".py",
   "mimetype": "text/x-python",
   "name": "python",
   "nbconvert_exporter": "python",
   "pygments_lexer": "ipython3",
   "version": "3.8.16"
  }
 },
 "nbformat": 4,
 "nbformat_minor": 5
}
